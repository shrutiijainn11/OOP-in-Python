{
  "nbformat": 4,
  "nbformat_minor": 0,
  "metadata": {
    "colab": {
      "provenance": []
    },
    "kernelspec": {
      "name": "python3",
      "display_name": "Python 3"
    },
    "language_info": {
      "name": "python"
    }
  },
  "cells": [
    {
      "cell_type": "code",
      "execution_count": null,
      "metadata": {
        "id": "dgpUqrjTWus8"
      },
      "outputs": [],
      "source": [
        "class Customer:\n",
        "\n",
        "  def __init__(self, name, gender):\n",
        "    self.name = name\n",
        "    self.gender = gender\n",
        "\n",
        "def greet(customer):\n",
        "  if customer.gender == \"Male\":\n",
        "    print(\"Hello, Mr. \" + customer.name)\n",
        "  else:\n",
        "    print(\"Hello, Ms. \" + customer.name)\n",
        "\n",
        "  cust2 = Customer(\"Jane\", \"Female\")\n",
        "  return cust2\n",
        "\n",
        "\n",
        "cust = Customer(\"Bob\", \"Male\")\n",
        "#print(cust.name)\n",
        "\n",
        "new_cust = greet(cust)\n",
        "print(new_cust.name)"
      ]
    },
    {
      "cell_type": "code",
      "source": [
        "class Customer:\n",
        "\n",
        "  def __init__(self, name):\n",
        "    self.name = name\n",
        "\n",
        "def greet(customer):\n",
        "  print(id(customer))\n",
        "  customer.name = \"Alice\"\n",
        "  print(customer.name)\n",
        "  print(id(customer))\n",
        "\n",
        "cust = Customer(\"Bob\")\n",
        "print(id(cust))\n",
        "\n",
        "greet(cust)\n",
        "\n",
        "print(cust.name)\n"
      ],
      "metadata": {
        "id": "ngBk5YqkNmVk"
      },
      "execution_count": null,
      "outputs": []
    },
    {
      "cell_type": "code",
      "source": [
        "def change(L):\n",
        "  print(id(L))\n",
        "  L.append(5)\n",
        "  print(id(L))\n",
        "\n",
        "L1 = [1, 2, 3, 4]\n",
        "print(id(L1))\n",
        "print(L1)\n",
        "\n",
        "change(L1) #this makes changes in original list\n",
        "change(L1[:])  #this passes copy of original list keeping the original intact\n",
        "\n",
        "print(L1)"
      ],
      "metadata": {
        "id": "kDQk2oltOSBS"
      },
      "execution_count": null,
      "outputs": []
    },
    {
      "cell_type": "code",
      "source": [
        "#in case of Tuple\n",
        "\n",
        "def change(L):\n",
        "  print(id(L))\n",
        "  L = L +(5,6)\n",
        "  print(id(L))\n",
        "\n",
        "L1 = (1, 2, 3, 4)\n",
        "print(id(L1))\n",
        "print(L1)\n",
        "\n",
        "change(L1)\n",
        "\n",
        "print(L1)"
      ],
      "metadata": {
        "id": "NC4LoGVNO0fZ"
      },
      "execution_count": null,
      "outputs": []
    },
    {
      "cell_type": "code",
      "source": [
        "class Customer:\n",
        "\n",
        "  def __init__(self, name, age):\n",
        "    self.name = name\n",
        "    self.age = age\n",
        "\n",
        "  def intro(self):\n",
        "    print(\"I am\",self.name,\"and I am\",self.age)\n",
        "\n",
        "c1 = Customer(\"Alice\", 25)\n",
        "c2 = Customer(\"Bob\", 30)\n",
        "c3 = Customer(\"Charlie\", 35)\n",
        "\n",
        "customers = [c1, c2, c3]\n",
        "\n",
        "for customer in customers:\n",
        "  print(customer)\n",
        "  print(customer.name, customer.age)\n"
      ],
      "metadata": {
        "id": "aJRF4lb7PErg"
      },
      "execution_count": null,
      "outputs": []
    }
  ]
}