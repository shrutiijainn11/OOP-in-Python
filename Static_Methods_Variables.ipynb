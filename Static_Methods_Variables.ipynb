{
  "nbformat": 4,
  "nbformat_minor": 0,
  "metadata": {
    "colab": {
      "provenance": []
    },
    "kernelspec": {
      "name": "python3",
      "display_name": "Python 3"
    },
    "language_info": {
      "name": "python"
    }
  },
  "cells": [
    {
      "cell_type": "code",
      "execution_count": null,
      "metadata": {
        "id": "DMhdjTlVPBBE"
      },
      "outputs": [],
      "source": [
        "#Constructor\n",
        "#special/magic/dunder methods\n",
        "\n",
        "\n",
        "class Atm:\n",
        "\n",
        "  #static/class variable\n",
        "  __counter = 1\n",
        "\n",
        "  def __init__(self):\n",
        "    #instance variable\n",
        "    self.__pin=\"\"\n",
        "    self.__balance=0\n",
        "    self.sno = Atm.counter\n",
        "    Atm.__counter = Atm.__counter + 1\n",
        "    self.menu()\n",
        "\n",
        "  @staticmethod\n",
        "  def get_counter():\n",
        "    return Atm.__counter\n",
        "\n",
        "  @staticmethod\n",
        "  def set_counter(new_counter):\n",
        "    if type(new_counter) == int:\n",
        "      Atm.__counter = new_counter\n",
        "      print(\"Counter reset successfully\")\n",
        "    else:\n",
        "      print(\"Invalid counter\")\n",
        "\n",
        "  def get_pin(self):\n",
        "    return self.__pin\n",
        "\n",
        "  def set_pin(self,new_pin):\n",
        "    if type(new_pin) == str:\n",
        "      self.__pin = new_pin\n",
        "      print(\"Pin changed successfully\")\n",
        "\n",
        "  def menu(self):\n",
        "    user_input=input(\"\"\"\n",
        "    Hi how would you like to proceed?\n",
        "    1. Enter 1 to create pin\n",
        "    2. Enter 2 to deposit\n",
        "    3. Enter 3 to withdraw\n",
        "    4. Enter 4 to check balance\n",
        "    5. Enter 5 to exit\n",
        "    \"\"\")\n",
        "    if user_input == \"1\":\n",
        "      self.create_pin()\n",
        "    elif user_input == \"2\":\n",
        "      self.deposit()\n",
        "    elif user_input == \"3\":\n",
        "      self.withdraw()\n",
        "    elif user_input == \"4\":\n",
        "      self.check_balance()\n",
        "    else:\n",
        "      print(\"bye\")\n",
        "\n",
        "  def create_pin(self):\n",
        "    self.pin = input(\"Enter your pin\")\n",
        "    print(\"Pin set successfully\")\n",
        "\n",
        "  def deposit(self):\n",
        "    temp = input(\"Enter your pin\")\n",
        "    if temp == self.pin:\n",
        "      amount = int(input(\"Enter the amount\"))\n",
        "      self.balance = self.balance + amount\n",
        "      print(\"Deposit successful\")\n",
        "    else:\n",
        "      print(\"Invalid pin\")\n",
        "\n",
        "  def withdraw(self):\n",
        "    temp = input(\"Enter your pin\")\n",
        "    if temp == self.pin:\n",
        "      amount = int(input(\"Enter the amount\"))\n",
        "      if amount < self.balance:\n",
        "        self.balance = self.balance - amount\n",
        "        print(\"Withdraw successful\")\n",
        "      else:\n",
        "        print(\"Insufficient balance\")\n",
        "    else:\n",
        "      print(\"Invalid pin\")\n",
        "\n",
        "  def check_balance(self):\n",
        "    temp = input(\"Enter your pin\")\n",
        "    if temp == self.pin:\n",
        "      print(self.balance)\n",
        "    else:\n",
        "      print(\"Invalid pin\")\n"
      ]
    },
    {
      "cell_type": "code",
      "source": [
        "sbi = Atm()"
      ],
      "metadata": {
        "colab": {
          "base_uri": "https://localhost:8080/"
        },
        "id": "5Oxo2ePs0_mE",
        "outputId": "6e7f9bcf-6181-4cf2-9c90-9a39be62f041"
      },
      "execution_count": null,
      "outputs": [
        {
          "output_type": "stream",
          "name": "stdout",
          "text": [
            "\n",
            "    Hi how would you like to proceed?\n",
            "    1. Enter 1 to create pin\n",
            "    2. Enter 2 to deposit\n",
            "    3. Enter 3 to withdraw\n",
            "    4. Enter 4 to check balance\n",
            "    5. Enter 5 to exit\n",
            "    1\n",
            "Enter your pin1234\n",
            "Pin set successfully\n"
          ]
        }
      ]
    },
    {
      "cell_type": "code",
      "source": [
        "sbi.deposit()"
      ],
      "metadata": {
        "colab": {
          "base_uri": "https://localhost:8080/"
        },
        "id": "2JM3aREJ1CjM",
        "outputId": "ac109b93-f7d8-4bc0-d949-ab5644acfc49"
      },
      "execution_count": null,
      "outputs": [
        {
          "output_type": "stream",
          "name": "stdout",
          "text": [
            "Enter your pin1234\n",
            "Enter the amount27000\n",
            "Deposit successful\n"
          ]
        }
      ]
    },
    {
      "cell_type": "code",
      "source": [
        "sbi.check_balance()"
      ],
      "metadata": {
        "colab": {
          "base_uri": "https://localhost:8080/"
        },
        "id": "SlJS1Qxm2dRj",
        "outputId": "678dc731-55bc-4576-ef15-a3dc5949b2c1"
      },
      "execution_count": null,
      "outputs": [
        {
          "output_type": "stream",
          "name": "stdout",
          "text": [
            "Enter your pin234\n",
            "Invalid pin\n"
          ]
        }
      ]
    },
    {
      "cell_type": "code",
      "source": [
        "sbi.check_balance()"
      ],
      "metadata": {
        "id": "EvlmEEOi2i5K",
        "outputId": "be0ac5b8-27a5-41a8-c949-089c9077c020",
        "colab": {
          "base_uri": "https://localhost:8080/"
        }
      },
      "execution_count": null,
      "outputs": [
        {
          "output_type": "stream",
          "name": "stdout",
          "text": [
            "Enter your pin1234\n",
            "27000\n"
          ]
        }
      ]
    },
    {
      "cell_type": "code",
      "source": [],
      "metadata": {
        "id": "MU3NJa8Y2m2c"
      },
      "execution_count": null,
      "outputs": []
    }
  ]
}