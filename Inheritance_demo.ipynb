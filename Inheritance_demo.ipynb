{
  "nbformat": 4,
  "nbformat_minor": 0,
  "metadata": {
    "colab": {
      "provenance": []
    },
    "kernelspec": {
      "name": "python3",
      "display_name": "Python 3"
    },
    "language_info": {
      "name": "python"
    }
  },
  "cells": [
    {
      "cell_type": "code",
      "execution_count": null,
      "metadata": {
        "id": "hJu4nm1Mz24A"
      },
      "outputs": [],
      "source": [
        "class User:\n",
        "\n",
        "  def login(self):\n",
        "    print(\"Login\")\n",
        "\n",
        "  def register(self):\n",
        "    print(\"Register\")\n",
        "\n",
        "class Student(User):\n",
        "\n",
        "  def enroll(self):\n",
        "    print(\"Enroll\")\n",
        "\n",
        "  def review(self):\n",
        "    print(\"Review\")\n",
        "\n",
        "stu1 = Student()\n",
        "stu1.login()\n",
        "stu1.register()\n",
        "stu1.enroll()\n",
        "stu1.review()"
      ]
    },
    {
      "cell_type": "code",
      "source": [
        "class User:\n",
        "\n",
        "  def login(self):\n",
        "    print(\"Login\")\n",
        "\n",
        "  def register(self):\n",
        "    print(\"Register\")\n",
        "\n",
        "class Student(User):\n",
        "\n",
        "  def enroll(self):\n",
        "    print(\"Enroll\")\n",
        "\n",
        "  def review(self):\n",
        "    print(\"Review\")\n",
        "\n",
        "u = User()\n",
        "u.login()\n",
        "u.register()\n",
        "u.enroll()\n",
        "u.review()"
      ],
      "metadata": {
        "id": "Iqle2Wg-UuTi"
      },
      "execution_count": null,
      "outputs": []
    }
  ]
}