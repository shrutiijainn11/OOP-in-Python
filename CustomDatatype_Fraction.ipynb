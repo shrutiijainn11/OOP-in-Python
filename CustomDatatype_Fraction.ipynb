{
  "nbformat": 4,
  "nbformat_minor": 0,
  "metadata": {
    "colab": {
      "provenance": []
    },
    "kernelspec": {
      "name": "python3",
      "display_name": "Python 3"
    },
    "language_info": {
      "name": "python"
    }
  },
  "cells": [
    {
      "cell_type": "code",
      "execution_count": 1,
      "metadata": {
        "id": "X_u2QQaczhxE"
      },
      "outputs": [],
      "source": [
        "class Fraction:\n",
        "\n",
        "    def __init__(self, n, d):\n",
        "        self.num = n\n",
        "        self.den = d\n",
        "\n",
        "    def __str__(self):\n",
        "        return f\"{self.num}/{self.den}\"\n",
        "\n",
        "    def __add__(self, other):\n",
        "        new_num = self.num * other.den + other.num * self.den\n",
        "        new_den = self.den * other.den\n",
        "        return f\"{new_num}/{new_den}\"\n",
        "\n",
        "    def __sub__(self, other):\n",
        "        new_num = self.num * other.den - other.num * self.den\n",
        "        new_den = self.den * other.den\n",
        "        return f\"{new_num}/{new_den}\"\n",
        "\n",
        "    def __mul__(self, other):\n",
        "        new_num = self.num * other.num\n",
        "        new_den = self.den * other.den\n",
        "        return f\"{new_num}/{new_den}\"\n",
        "\n",
        "    def __truediv__(self, other):\n",
        "        new_num = self.num * other.den\n",
        "        new_den = self.den * other.num\n",
        "        return f\"{new_num}/{new_den}\"\n",
        "\n",
        "    def __eq__(self, other):\n",
        "        first_num = self.num * other.den\n",
        "        second_num = other.num * self.den\n",
        "        return first_num == second_num\n",
        "\n",
        "    def __lt__(self, other):\n",
        "        first_num = self.num * other.den\n",
        "        second_num = other.num * self.den\n",
        "        return first_num < second_num\n",
        "\n",
        "    def __gt__(self, other):\n",
        "        first_num = self.num * other.den\n",
        "        second_num = other.num * self.den\n",
        "        return first_num > second_num\n",
        ""
      ]
    },
    {
      "cell_type": "code",
      "source": [
        "x = Fraction(1, 2)\n",
        "y = Fraction(1, 4)"
      ],
      "metadata": {
        "id": "eGajYksW5bvV"
      },
      "execution_count": 2,
      "outputs": []
    },
    {
      "cell_type": "code",
      "source": [
        "print(x)\n",
        "print(y)"
      ],
      "metadata": {
        "colab": {
          "base_uri": "https://localhost:8080/"
        },
        "id": "-hNaRkci5eEr",
        "outputId": "ffe0aed0-82a2-4f28-cba8-f44662d72477"
      },
      "execution_count": 3,
      "outputs": [
        {
          "output_type": "stream",
          "name": "stdout",
          "text": [
            "1/2\n",
            "1/4\n"
          ]
        }
      ]
    },
    {
      "cell_type": "code",
      "source": [
        "print(x+y)\n",
        "print(x-y)\n",
        "print(x*y)\n",
        "print(x/y)"
      ],
      "metadata": {
        "colab": {
          "base_uri": "https://localhost:8080/"
        },
        "id": "btd5fPW45g8N",
        "outputId": "fa6ad593-0fdd-4281-8dba-aa1a54ea4660"
      },
      "execution_count": 4,
      "outputs": [
        {
          "output_type": "stream",
          "name": "stdout",
          "text": [
            "6/8\n",
            "2/8\n",
            "1/8\n",
            "4/2\n"
          ]
        }
      ]
    },
    {
      "cell_type": "code",
      "source": [
        "print(x==y)\n",
        "print(x<y)\n",
        "print(x>y)"
      ],
      "metadata": {
        "colab": {
          "base_uri": "https://localhost:8080/"
        },
        "id": "nskSK1355j_6",
        "outputId": "ffcdeaaa-5d69-4913-852b-4a8ed69cfcd3"
      },
      "execution_count": 5,
      "outputs": [
        {
          "output_type": "stream",
          "name": "stdout",
          "text": [
            "False\n",
            "False\n",
            "True\n"
          ]
        }
      ]
    },
    {
      "cell_type": "code",
      "source": [],
      "metadata": {
        "id": "YZ5VcB2V5meg"
      },
      "execution_count": null,
      "outputs": []
    }
  ]
}