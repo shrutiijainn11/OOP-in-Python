{
  "nbformat": 4,
  "nbformat_minor": 0,
  "metadata": {
    "colab": {
      "provenance": []
    },
    "kernelspec": {
      "name": "python3",
      "display_name": "Python 3"
    },
    "language_info": {
      "name": "python"
    }
  },
  "cells": [
    {
      "cell_type": "code",
      "execution_count": null,
      "metadata": {
        "id": "wnmIbpwHRiZi"
      },
      "outputs": [],
      "source": [
        "class Customer:\n",
        "\n",
        "  def __init__(self, name, gender, address):\n",
        "    self.name = name\n",
        "    self.gender = gender\n",
        "    self.address = address\n",
        "\n",
        "  def edit_profile(self, new_name, new_city, new_state, new_zipcode):\n",
        "    self.name = new_name\n",
        "    self.address.change_address(new_city, new_state, new_zipcode)\n",
        "\n",
        "class Address:\n",
        "\n",
        "  def __init__(self, city, state, zipcode):\n",
        "    self.city = city\n",
        "    self.state = state\n",
        "    self.zipcode = zipcode\n",
        "\n",
        "  def change_address(self, new_city, new_state, new_zipcode):\n",
        "    self.city = new_city\n",
        "    self.state = new_state\n",
        "    self.zipcode = new_zipcode\n",
        "\n",
        "add = Address(\"Kolkata\", \"WB\", 700156)\n",
        "cust = Customer(\"Shruti\", \"Female\", add)\n",
        "\n",
        "cust.edit_profile(\"Gurgaon\", \"Haryana\", 122011)\n",
        "print(cust.address.city)"
      ]
    }
  ]
}